{
 "cells": [
  {
   "cell_type": "code",
   "execution_count": null,
   "metadata": {},
   "outputs": [],
   "source": [
    "# For Chinese users\n",
    "# !export HF_ENDPOINT='https://hf-mirror.com'\n",
    "# !huggingface-cli download facebook/esm2_t36_3B_UR50D\n",
    "# !huggingface-cli download facebook/esm2_t33_650M_UR50D"
   ]
  },
  {
   "cell_type": "code",
   "execution_count": null,
   "metadata": {},
   "outputs": [],
   "source": [
    "import os\n",
    "\n",
    "import torch\n",
    "from Bio.SeqIO.FastaIO import SimpleFastaParser\n",
    "\n",
    "from pdmodels import ESM2\n",
    "from pdmodels.globals import ROOT_DIR\n",
    "\n",
    "device = torch.device(\"cuda\" if torch.cuda.is_available() else \"cpu\")\n",
    "\n",
    "esm2_3B_model_name = \"facebook/esm2_t36_3B_UR50D\"\n",
    "esm2_650M_model_name = \"facebook/esm2_t33_650M_UR50D\"\n",
    "\n",
    "esm2_650M_model = ESM2(esm2_650M_model_name, device=device)\n",
    "# esm2_3B_model = ESM2(esm2_3B_model_name, device=device)"
   ]
  },
  {
   "cell_type": "code",
   "execution_count": null,
   "metadata": {},
   "outputs": [],
   "source": [
    "seqs_path = os.path.join(ROOT_DIR, \"assets\", \"multimers\", \"multimers.fasta\")\n",
    "\n",
    "with open(seqs_path, \"r\") as f:\n",
    "    seqs_list = [seq for _, seq in SimpleFastaParser(f)]\n",
    "\n",
    "print(f\"Multimer sequences list: {seqs_list}\")"
   ]
  },
  {
   "cell_type": "code",
   "execution_count": null,
   "metadata": {},
   "outputs": [],
   "source": [
    "output_dict = esm2_650M_model.score(seqs_list)\n",
    "output_dict"
   ]
  }
 ],
 "metadata": {
  "kernelspec": {
   "display_name": "pdmodels",
   "language": "python",
   "name": "python3"
  },
  "language_info": {
   "codemirror_mode": {
    "name": "ipython",
    "version": 3
   },
   "file_extension": ".py",
   "mimetype": "text/x-python",
   "name": "python",
   "nbconvert_exporter": "python",
   "pygments_lexer": "ipython3",
   "version": "3.12.2"
  }
 },
 "nbformat": 4,
 "nbformat_minor": 2
}
