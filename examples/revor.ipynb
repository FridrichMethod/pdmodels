{
 "cells": [
  {
   "cell_type": "code",
   "execution_count": null,
   "metadata": {},
   "outputs": [],
   "source": [
    "import os\n",
    "\n",
    "import networkx as nx\n",
    "import torch\n",
    "\n",
    "from pdmodels import ESMIF, MPNN, ReVor\n",
    "from pdmodels.globals import ROOT_DIR\n",
    "\n",
    "device = torch.device(\"cuda\" if torch.cuda.is_available() else \"cpu\")"
   ]
  },
  {
   "cell_type": "code",
   "execution_count": null,
   "metadata": {},
   "outputs": [],
   "source": [
    "checkpoint_path = os.path.join(\n",
    "    ROOT_DIR, \"model_params\", \"ligandmpnn\", \"ligandmpnn_v_32_020_25.pt\"\n",
    ")\n",
    "mpnn = MPNN(\n",
    "    checkpoint_path,\n",
    "    model_type=\"ligand_mpnn\",\n",
    "    device=device,\n",
    "    ligand_mpnn_use_side_chain_context=True,\n",
    ")\n",
    "# esmif = ESMIF(device=device)"
   ]
  },
  {
   "cell_type": "code",
   "execution_count": null,
   "metadata": {},
   "outputs": [],
   "source": [
    "seqs_path = os.path.join(ROOT_DIR, \"assets\", \"multimers\", \"multimers.fasta\")\n",
    "pdb_path = os.path.join(ROOT_DIR, \"assets\", \"multimers\", \"NbALFA_ALFAtag_AF3.pdb\")\n",
    "\n",
    "seqs_wt = \"SGEVQLQESGGGLVQPGGSLRLSCTASGVTISALNAMAMGWYRQAPGERRVMVAAVSERGNAMYRESVQGRFTVTRDFTNKMVSLQMDNLKPEDTAVYYCHVLEDRVDSFHDYWGQGTQVTVSS:PSRLEEELRRRLTEP\"\n",
    "repeat = 4\n",
    "redesigned_residues = \"A1 A3 A4 A5 A7 A8 A9 A13 A14 A15 A19 A20 A21 A23 A24 A25 A26 A27 A39 A41 A44 A45 A46 A48 A50 A52 A53 A67 A68 A69 A72 A73 A74 A75 A76 A77 A78 A79 A80 A81 A82 A83 A84 A85 A86 A88 A89 A91 A92 A93 A95 A97 A99 A100 A102 A114 A116 A118 A119 A120 A121 A123 A124\""
   ]
  },
  {
   "cell_type": "code",
   "execution_count": null,
   "metadata": {},
   "outputs": [],
   "source": [
    "revor = ReVor(\n",
    "    mpnn, pdb_path, seqs_wt, repeat=repeat, redesigned_residues=redesigned_residues\n",
    ")\n",
    "revor.revert(\n",
    "    seqs_path,\n",
    "    cutoff=0.1,\n",
    "    batch_size=16,\n",
    "    max_step=3,\n",
    "    n_samples=6,\n",
    "    temperature=1.0,\n",
    "    checkpoint_path=\"./checkpoint.pkl\",\n",
    "    save_checkpoint_interval=2,\n",
    ")"
   ]
  },
  {
   "cell_type": "code",
   "execution_count": null,
   "metadata": {},
   "outputs": [],
   "source": [
    "revor.plot(nx.multipartite_layout, subset_key=\"iteration\")\n",
    "revor.plot(nx.multipartite_layout, subset_key=\"distance\")\n",
    "revor.plot(nx.multipartite_layout, subset_key=\"topology\")"
   ]
  },
  {
   "cell_type": "code",
   "execution_count": null,
   "metadata": {},
   "outputs": [],
   "source": [
    "revor.get_results()"
   ]
  },
  {
   "cell_type": "code",
   "execution_count": null,
   "metadata": {},
   "outputs": [],
   "source": [
    "revor.save(os.path.join(ROOT_DIR, \"assets\", \"multimers\", \"revor\"))"
   ]
  }
 ],
 "metadata": {
  "kernelspec": {
   "display_name": "pdmodels",
   "language": "python",
   "name": "python3"
  },
  "language_info": {
   "codemirror_mode": {
    "name": "ipython",
    "version": 3
   },
   "file_extension": ".py",
   "mimetype": "text/x-python",
   "name": "python",
   "nbconvert_exporter": "python",
   "pygments_lexer": "ipython3",
   "version": "3.12.2"
  }
 },
 "nbformat": 4,
 "nbformat_minor": 2
}
