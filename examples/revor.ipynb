{
 "cells": [
  {
   "cell_type": "code",
   "execution_count": 1,
   "metadata": {},
   "outputs": [],
   "source": [
    "import os\n",
    "import sys\n",
    "\n",
    "import matplotlib.pyplot as plt\n",
    "import networkx as nx\n",
    "import numpy as np\n",
    "import torch\n",
    "\n",
    "sys.path.append(\"..\")\n",
    "\n",
    "from models import ESMIF, MPNN\n",
    "from models.revor import ReVor"
   ]
  },
  {
   "cell_type": "code",
   "execution_count": 2,
   "metadata": {},
   "outputs": [],
   "source": [
    "mpnn = MPNN(\n",
    "    \"../models/model_params/ligandmpnn_v_32_020_25.pt\",\n",
    "    model_type=\"ligand_mpnn\",\n",
    "    device=\"cuda\",\n",
    "    ligand_mpnn_use_side_chain_context=True,\n",
    ")\n",
    "# esmif = ESMIF(device=\"cuda\")"
   ]
  },
  {
   "cell_type": "code",
   "execution_count": 3,
   "metadata": {},
   "outputs": [],
   "source": [
    "pdb_path = \"../pdbs/NbALFA_ALFAtag_AF3.pdb\"\n",
    "redesigned_residues = \"A1 A3 A4 A5 A7 A8 A9 A13 A14 A15 A19 A20 A21 A23 A24 A25 A26 A27 A39 A41 A44 A45 A46 A48 A50 A52 A53 A67 A68 A69 A72 A73 A74 A75 A76 A77 A78 A79 A80 A81 A82 A83 A84 A85 A86 A88 A89 A91 A92 A93 A95 A97 A99 A100 A102 A114 A116 A118 A119 A120 A121 A123 A124\"\n",
    "seqs_wt = \"SGEVQLQESGGGLVQPGGSLRLSCTASGVTISALNAMAMGWYRQAPGERRVMVAAVSERGNAMYRESVQGRFTVTRDFTNKMVSLQMDNLKPEDTAVYYCHVLEDRVDSFHDYWGQGTQVTVSS:PSRLEEELRRRLTEP\""
   ]
  },
  {
   "cell_type": "code",
   "execution_count": null,
   "metadata": {},
   "outputs": [],
   "source": [
    "revor = ReVor(mpnn, pdb_path, seqs_wt, redesigned_residues=redesigned_residues)\n",
    "revor.revert(\n",
    "    \"../results/reversion/complex.fasta\",\n",
    "    cutoff=0.1,\n",
    "    batch_size=32,\n",
    "    repeat=4,\n",
    "    max_step=3,\n",
    "    n_samples=6,\n",
    "    temperature=1.0,\n",
    "    checkpoint_path=\"./checkpoint.pkl\",\n",
    "    save_checkpoint_interval=20,\n",
    ")"
   ]
  },
  {
   "cell_type": "code",
   "execution_count": null,
   "metadata": {},
   "outputs": [],
   "source": [
    "revor.revert(\n",
    "    \"./checkpoint.pkl\",\n",
    "    cutoff=0.1,\n",
    "    batch_size=32,\n",
    "    repeat=4,\n",
    "    max_step=3,\n",
    "    n_samples=6,\n",
    "    temperature=1.0,\n",
    "    checkpoint_path=\"./checkpoint.pkl\",\n",
    "    save_checkpoint_interval=20,\n",
    ")"
   ]
  },
  {
   "cell_type": "code",
   "execution_count": 9,
   "metadata": {},
   "outputs": [],
   "source": [
    "revor.save(\n",
    "    \"../results/reversion/complex\",\n",
    ")"
   ]
  },
  {
   "cell_type": "code",
   "execution_count": null,
   "metadata": {},
   "outputs": [],
   "source": [
    "revor.plot(nx.multipartite_layout, subset_key=\"iteration\")\n",
    "revor.plot(nx.multipartite_layout, subset_key=\"distance\")\n",
    "revor.plot(nx.multipartite_layout, subset_key=\"topology\")"
   ]
  }
 ],
 "metadata": {
  "kernelspec": {
   "display_name": "pdmodels",
   "language": "python",
   "name": "python3"
  },
  "language_info": {
   "codemirror_mode": {
    "name": "ipython",
    "version": 3
   },
   "file_extension": ".py",
   "mimetype": "text/x-python",
   "name": "python",
   "nbconvert_exporter": "python",
   "pygments_lexer": "ipython3",
   "version": "3.11.11"
  }
 },
 "nbformat": 4,
 "nbformat_minor": 2
}
