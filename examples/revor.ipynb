{
 "cells": [
  {
   "cell_type": "code",
   "execution_count": 1,
   "metadata": {},
   "outputs": [],
   "source": [
    "import os\n",
    "import sys\n",
    "\n",
    "import matplotlib.pyplot as plt\n",
    "import networkx as nx\n",
    "import numpy as np\n",
    "import torch\n",
    "\n",
    "sys.path.append(\"..\")\n",
    "\n",
    "from models import ESMIF, MPNN\n",
    "from models.revor import ReVor\n",
    "\n",
    "device = torch.device(\"cuda\" if torch.cuda.is_available() else \"cpu\")"
   ]
  },
  {
   "cell_type": "code",
   "execution_count": null,
   "metadata": {},
   "outputs": [],
   "source": [
    "checkpoint_path = \"../model_params/ligandmpnn/ligandmpnn_v_32_020_25.pt\"\n",
    "mpnn = MPNN(\n",
    "    checkpoint_path,\n",
    "    model_type=\"ligand_mpnn\",\n",
    "    device=device,\n",
    "    ligand_mpnn_use_side_chain_context=True,\n",
    ")\n",
    "# esmif = ESMIF(device=device)"
   ]
  },
  {
   "cell_type": "code",
   "execution_count": null,
   "metadata": {},
   "outputs": [],
   "source": [
    "pdb_path = \"../pdbs/FlexID.pdb\"\n",
    "redesigned_residues = (\n",
    "    \"A9 A26 A30 A35 A83 A106 A128 A131 A173 A219 A223 A225 A254 A256 A316 A321 A328\"\n",
    ")\n",
    "seqs_wt = \"STLRLLISDSHDPWFNLAVEECIFRQMPATQRVLFLVRNADTVVIGRNQNPWKECNIRRMEEDNVRLARRSSGGGAVFHDLGNTCFTFMAGKPEYDKTISTSIVLNALNALGVSAEASGRNDLVVKTVEGDRKVSGSAYRETKDRGLHHGTLLLNADLSRLANYLNPDKKKLAAKGITSVRSRVTNLTELLPGITHEQVCEAITEAFFAHYGERVEAEIISPNETPDLPNFAETFARQSSWEWNFGQSPAFSHLLDERFTWGGVELRFDVEKGHITRAQVFTDSLNPAPLEALAGRLQGCLYRADELQQECEALLVDFPEQEKELRELSAWMAGAVR\"\n",
    "repeat = 4"
   ]
  },
  {
   "cell_type": "code",
   "execution_count": null,
   "metadata": {},
   "outputs": [],
   "source": [
    "revor = ReVor(\n",
    "    mpnn, pdb_path, seqs_wt, repeat=repeat, redesigned_residues=redesigned_residues\n",
    ")\n",
    "revor.revert(\n",
    "    \"../results/alignments.fasta\",\n",
    "    cutoff=0.1,\n",
    "    batch_size=8,\n",
    "    max_step=2,\n",
    "    n_samples=8,\n",
    "    temperature=2,\n",
    "    checkpoint_path=\"./checkpoint.pkl\",\n",
    "    save_checkpoint_interval=20,\n",
    ")"
   ]
  },
  {
   "cell_type": "code",
   "execution_count": null,
   "metadata": {},
   "outputs": [],
   "source": [
    "revor.plot(nx.multipartite_layout, subset_key=\"iteration\")\n",
    "revor.plot(nx.multipartite_layout, subset_key=\"distance\")\n",
    "revor.plot(nx.multipartite_layout, subset_key=\"topology\")"
   ]
  },
  {
   "cell_type": "code",
   "execution_count": null,
   "metadata": {},
   "outputs": [],
   "source": [
    "revor.get_results()"
   ]
  },
  {
   "cell_type": "code",
   "execution_count": null,
   "metadata": {},
   "outputs": [],
   "source": [
    "revor.save(\"../results/alignments\")"
   ]
  }
 ],
 "metadata": {
  "kernelspec": {
   "display_name": "pdmodels",
   "language": "python",
   "name": "python3"
  },
  "language_info": {
   "codemirror_mode": {
    "name": "ipython",
    "version": 3
   },
   "file_extension": ".py",
   "mimetype": "text/x-python",
   "name": "python",
   "nbconvert_exporter": "python",
   "pygments_lexer": "ipython3",
   "version": "3.11.11"
  }
 },
 "nbformat": 4,
 "nbformat_minor": 2
}
