{
 "cells": [
  {
   "cell_type": "code",
   "execution_count": null,
   "metadata": {},
   "outputs": [],
   "source": [
    "import os\n",
    "import sys\n",
    "\n",
    "import numpy as np\n",
    "import pandas as pd\n",
    "import torch\n",
    "from tqdm.auto import tqdm\n",
    "\n",
    "from pdmodels import ESMIF\n",
    "from pdmodels.utils import get_dms_libary\n",
    "\n",
    "device = torch.device(\"cuda\" if torch.cuda.is_available() else \"cpu\")\n",
    "\n",
    "esmif = ESMIF(device=device)"
   ]
  },
  {
   "cell_type": "code",
   "execution_count": null,
   "metadata": {},
   "outputs": [],
   "source": [
    "pdb_path = \"../pdbs/NbALFA_ALFAtag_AF3.pdb\"\n",
    "target_seq_list = [\n",
    "    \"SGEVQLQESGGGLVQPGGSLRLSCTASGVTISALNAMAMGWYRQAPGERRVMVAAVSERGNAMYRESVQGRFTVTRDFTNKMVSLQMDNLKPEDTAVYYCHVLEDRVDSFHDYWGQGTQVTVSS\",\n",
    "    \"KGQVQLQQSAELALARMSCKASYTFTSQAPGKGLEWVSAITWNELARPGASVKMSGHIDYADSVKGRFSGHIDYADSVKGRFTIPGASVKMSGTEKMSCTAVYYCAKYPGQVQLQQSAELAASS\",\n",
    "    \"ARPGASVNELARPGASVKMSGHIDYAKMSCKASGYTFTSQAPGLEWVSAITWNELKASGYFTSQAPLQMLYLAVYYCAKPYYGSHVWGAVSAITWGVQLYAVAKYSRDNSKNTTVTVGTTVTVS\",\n",
    "    \"PGLRAEDTAVYYCAKYPYELARPGYTFTSQAPGKGLGSHWYFDVWWYFDLYQMNSLRATIRDNSKNTWVSEVWGAGTASKMSCKASGGSVKMEDTAVYYCAKYPYYGSHGAGTDNSKNTVVTVS\",\n",
    "]\n",
    "output_dict = esmif.score(pdb_path, target_seq_list, truncate=True)\n",
    "output_dict"
   ]
  },
  {
   "cell_type": "code",
   "execution_count": null,
   "metadata": {},
   "outputs": [],
   "source": [
    "pdb_path = \"../pdbs/NbALFA_ALFAtag_AF3.pdb\"\n",
    "seq_wt = \"SGEVQLQESGGGLVQPGGSLRLSCTASGVTISALNAMAMGWYRQAPGERRVMVAAVSERGNAMYRESVQGRFTVTRDFTNKMVSLQMDNLKPEDTAVYYCHVLEDRVDSFHDYWGQGTQVTVSS\"\n",
    "data = []\n",
    "dms_library = get_dms_libary(seq_wt)\n",
    "\n",
    "batch_size = 32\n",
    "for i in tqdm(range(0, len(dms_library), batch_size)):\n",
    "    batch = dms_library[i : i + batch_size]\n",
    "    batch_mutation_list, batch_seqs_list = zip(*batch)\n",
    "    batch_perplexity_list = list(\n",
    "        esmif.score(pdb_path, batch_seqs_list)[\"perplexity\"].numpy()\n",
    "    )\n",
    "    data.extend(list(zip(batch_mutation_list, batch_perplexity_list)))\n",
    "\n",
    "df = pd.DataFrame(data, columns=[\"mutation\", \"perplexity\"])\n",
    "# df.to_csv(\"../results/dms.csv\", index=False)\n",
    "df"
   ]
  },
  {
   "cell_type": "code",
   "execution_count": null,
   "metadata": {},
   "outputs": [],
   "source": [
    "# pdb_path = \"../pdbs/NbALFA_AF3.pdb\"\n",
    "# output_path = \"../results/sampled_monomer_esm.fasta\"\n",
    "# redisigned_residues = \"1 3 4 5 7 8 9 13 14 15 19 20 21 23 24 25 26 27 39 41 44 45 46 48 50 52 53 67 68 69 72 73 74 75 76 77 78 79 80 81 82 83 84 85 86 88 89 91 92 93 95 97 99 100 102 114 116 118 119 120 121 123 124\"\n",
    "\n",
    "# for batch_num in tqdm(range(4)):\n",
    "#     esmif.sample(\n",
    "#         pdb_path,\n",
    "#         output_path,\n",
    "#         target_chain_id=\"A\",\n",
    "#         batch_size=32,\n",
    "#         redesigned_residues=redisigned_residues,\n",
    "#         omit_aa=\"C\",\n",
    "#         temperature=1.0,\n",
    "#         padding_length=10,\n",
    "#         index_offset=batch_num * 32,\n",
    "#     )"
   ]
  }
 ],
 "metadata": {
  "kernelspec": {
   "display_name": "pdmodels",
   "language": "python",
   "name": "python3"
  },
  "language_info": {
   "codemirror_mode": {
    "name": "ipython",
    "version": 3
   },
   "file_extension": ".py",
   "mimetype": "text/x-python",
   "name": "python",
   "nbconvert_exporter": "python",
   "pygments_lexer": "ipython3",
   "version": "3.12.2"
  }
 },
 "nbformat": 4,
 "nbformat_minor": 2
}
