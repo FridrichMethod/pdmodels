{
 "cells": [
  {
   "cell_type": "code",
   "execution_count": 2,
   "metadata": {},
   "outputs": [],
   "source": [
    "import os\n",
    "import sys\n",
    "\n",
    "import numpy as np\n",
    "import torch\n",
    "\n",
    "sys.path.append(\"..\")\n",
    "\n",
    "from models.mpnn_batch import MPNNBatch, extract_from_sample, extract_from_score"
   ]
  },
  {
   "cell_type": "code",
   "execution_count": 7,
   "metadata": {},
   "outputs": [],
   "source": [
    "checkpoint_path = \"../models/model_params/ligandmpnn_v_32_020_25.pt\"\n",
    "mpnn_batch = MPNNBatch(\n",
    "    checkpoint_path,\n",
    "    model_type=\"ligand_mpnn\",\n",
    "    device=\"cuda\",\n",
    "    ligand_mpnn_use_side_chain_context=True,\n",
    ")"
   ]
  },
  {
   "cell_type": "code",
   "execution_count": null,
   "metadata": {},
   "outputs": [],
   "source": [
    "pdb_path = \"../pdbs/NbALFA_ALFAtag_AF3.pdb\"\n",
    "seqs_list = [\n",
    "    \"SGEVQLQESGGGLVQPGGSLRLSCTASGVTISALNAMAMGWYRQAPGERRVMVAAVSERGNAMYRESVQGRFTVTRDFTNKMVSLQMDNLKPEDTAVYYCHVLEDRVDSFHDYWGQGTQVTVSS:PSRLEEELRRRLTEP\",\n",
    "    \"GGTVVLTESGGGTVAPGGSATLTATASGVTISALNAMAWGWYRQRPGERPVAVAAVSERGNAMYREDVRGRWTVTADRANKTVSLEMRDLQPEDTATYYPHVLEDRVDSFHDYWGAGVPLTVVP:PSRLEEELRRRLTEP\",\n",
    "    \"GQVQLQQSAELARPGASVKMSCKASGYTFTSQAPGKGLEWVSAITWNELARPGASVKMSGHIDYADSVKGRFTISRDNSKNTLYLQMNSLRAEDTAVYYCAKYPYYGSHWYFDVWGAGTTVTVS:PSRLEEELRRRLTEP\",\n",
    "    \"PGLRAEDTAVYYCAKYPYELARPGYTFTSQAPGKGLGSHWYFDVWWYFDLYQMNSLRATIRDNSKNTWVSEVWGAGTASKMSCKASGGSVKMEDTAVYYCAKYPYYGSHGAGTDNSKNAVVTVS:PSRLEEELRRRLTEP\",\n",
    "]\n",
    "chains_to_design = \"A\"\n",
    "redesigned_residues = \"A1 A3 A4 A5 A7 A8 A9 A13 A14 A15 A19 A20 A21 A23 A24 A25 A26 A27 A39 A41 A44 A45 A46 A48 A50 A52 A53 A67 A68 A69 A72 A73 A74 A75 A76 A77 A78 A79 A80 A81 A82 A83 A84 A85 A86 A88 A89 A91 A92 A93 A95 A97 A99 A100 A102 A114 A116 A118 A119 A120 A121 A123 A124\"\n",
    "symmetry_residues = \"B1,B15|B5,B6,B7|B9,B10,B11\"\n",
    "\n",
    "output_dict = mpnn_batch.score(\n",
    "    pdb_path,\n",
    "    seqs_list=seqs_list,\n",
    "    chains_to_design=chains_to_design,\n",
    "    redesigned_residues=redesigned_residues,\n",
    "    symmetry_residues=symmetry_residues,\n",
    "    verbose=True,\n",
    ")\n",
    "\n",
    "entropy, loss, perplexity = (\n",
    "    output_dict[\"entropy\"],\n",
    "    output_dict[\"loss\"],\n",
    "    output_dict[\"perplexity\"],\n",
    ")\n",
    "\n",
    "entropy.shape, loss, perplexity"
   ]
  },
  {
   "cell_type": "code",
   "execution_count": null,
   "metadata": {},
   "outputs": [],
   "source": [
    "# !sh \"./score_complex.sh\" \"../pdbs/NbALFA_ALFAtag_AF3.pdb\" \"../results_/score/\"\n",
    "# extract_from_score(\"../results_/score/NbALFA_ALFAtag_AF3.pt\")"
   ]
  },
  {
   "cell_type": "code",
   "execution_count": null,
   "metadata": {},
   "outputs": [],
   "source": [
    "# !sh \"./score_wt.sh\" \"../pdbs/NbALFA_ALFAtag_AF3.pdb\" \"../results/score\"\n",
    "# extract_from_score(\"../results/score/NbALFA_ALFAtag_AF3.pt\")"
   ]
  },
  {
   "cell_type": "code",
   "execution_count": null,
   "metadata": {},
   "outputs": [],
   "source": [
    "# !sh \"./sample_complex.sh\" \"../pdbs/NbALFA_AF3.pdb\" \"../results/sample\"\n",
    "# extract_from_sample(\"../results/sample/stats/NbALFA_AF3.pt\")"
   ]
  }
 ],
 "metadata": {
  "kernelspec": {
   "display_name": "pdmodels",
   "language": "python",
   "name": "python3"
  },
  "language_info": {
   "codemirror_mode": {
    "name": "ipython",
    "version": 3
   },
   "file_extension": ".py",
   "mimetype": "text/x-python",
   "name": "python",
   "nbconvert_exporter": "python",
   "pygments_lexer": "ipython3",
   "version": "3.11.10"
  }
 },
 "nbformat": 4,
 "nbformat_minor": 2
}
