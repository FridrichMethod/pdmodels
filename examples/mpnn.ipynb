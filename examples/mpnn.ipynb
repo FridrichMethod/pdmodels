{
 "cells": [
  {
   "cell_type": "code",
   "execution_count": null,
   "metadata": {},
   "outputs": [],
   "source": [
    "import os\n",
    "\n",
    "import torch\n",
    "from Bio.SeqIO.FastaIO import SimpleFastaParser\n",
    "\n",
    "from pdmodels import MPNN\n",
    "from pdmodels.globals import ROOT_DIR\n",
    "\n",
    "device = torch.device(\"cuda\" if torch.cuda.is_available() else \"cpu\")\n",
    "\n",
    "checkpoint_path = os.path.join(\n",
    "    ROOT_DIR, \"model_params\", \"ligandmpnn\", \"ligandmpnn_v_32_020_25.pt\"\n",
    ")\n",
    "mpnn = MPNN(\n",
    "    checkpoint_path,\n",
    "    model_type=\"ligand_mpnn\",\n",
    "    device=device,\n",
    "    ligand_mpnn_use_side_chain_context=True,\n",
    ")"
   ]
  },
  {
   "cell_type": "code",
   "execution_count": null,
   "metadata": {},
   "outputs": [],
   "source": [
    "seqs_path = os.path.join(ROOT_DIR, \"assets\", \"multimers\", \"multimers.fasta\")\n",
    "pdb_path = os.path.join(ROOT_DIR, \"assets\", \"multimers\", \"NbALFA_ALFAtag_AF3.pdb\")\n",
    "\n",
    "with open(seqs_path, \"r\") as f:\n",
    "    seqs_list = [seq for _, seq in SimpleFastaParser(f)]\n",
    "\n",
    "print(f\"Multimer sequences list: {seqs_list}\")"
   ]
  },
  {
   "cell_type": "code",
   "execution_count": null,
   "metadata": {},
   "outputs": [],
   "source": [
    "chains_to_design = \"A\"\n",
    "redesigned_residues = \"A1 A3 A4 A5 A7 A8 A9 A13 A14 A15 A19 A20 A21 A23 A24 A25 A26 A27 A39 A41 A44 A45 A46 A48 A50 A52 A53 A67 A68 A69 A72 A73 A74 A75 A76 A77 A78 A79 A80 A81 A82 A83 A84 A85 A86 A88 A89 A91 A92 A93 A95 A97 A99 A100 A102 A114 A116 A118 A119 A120 A121 A123 A124\"\n",
    "# symmetry_residues = \"B1,B15|B5,B6,B7|B9,B10,B11\"\n",
    "\n",
    "output_dict = mpnn.score(\n",
    "    pdb_path,\n",
    "    # seqs_list=seqs_list,\n",
    "    repeat=4,\n",
    "    # chains_to_design=chains_to_design,\n",
    "    redesigned_residues=redesigned_residues,\n",
    "    # symmetry_residues=symmetry_residues,\n",
    "    verbose=True,\n",
    ")\n",
    "output_dict"
   ]
  }
 ],
 "metadata": {
  "kernelspec": {
   "display_name": "pdmodels",
   "language": "python",
   "name": "python3"
  },
  "language_info": {
   "codemirror_mode": {
    "name": "ipython",
    "version": 3
   },
   "file_extension": ".py",
   "mimetype": "text/x-python",
   "name": "python",
   "nbconvert_exporter": "python",
   "pygments_lexer": "ipython3",
   "version": "3.12.2"
  }
 },
 "nbformat": 4,
 "nbformat_minor": 2
}
